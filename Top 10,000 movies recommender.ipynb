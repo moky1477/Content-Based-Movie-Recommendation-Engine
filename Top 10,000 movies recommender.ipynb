{
 "cells": [
  {
   "cell_type": "code",
   "execution_count": 112,
   "id": "3a0bf803",
   "metadata": {},
   "outputs": [],
   "source": [
    "import pandas as pd\n",
    "import numpy as np"
   ]
  },
  {
   "cell_type": "code",
   "execution_count": 113,
   "id": "ccdd9a82",
   "metadata": {},
   "outputs": [],
   "source": [
    "movies = pd.read_csv('../Data/top_1000_popular_movies_tmdb.csv', lineterminator='\\n')"
   ]
  },
  {
   "cell_type": "code",
   "execution_count": 114,
   "id": "696a96b1",
   "metadata": {},
   "outputs": [],
   "source": [
    "movies = movies.drop(\"Unnamed: 0\", axis=1)"
   ]
  },
  {
   "cell_type": "code",
   "execution_count": 115,
   "id": "3d363e5c",
   "metadata": {},
   "outputs": [
    {
     "data": {
      "text/html": [
       "<div>\n",
       "<style scoped>\n",
       "    .dataframe tbody tr th:only-of-type {\n",
       "        vertical-align: middle;\n",
       "    }\n",
       "\n",
       "    .dataframe tbody tr th {\n",
       "        vertical-align: top;\n",
       "    }\n",
       "\n",
       "    .dataframe thead th {\n",
       "        text-align: right;\n",
       "    }\n",
       "</style>\n",
       "<table border=\"1\" class=\"dataframe\">\n",
       "  <thead>\n",
       "    <tr style=\"text-align: right;\">\n",
       "      <th></th>\n",
       "      <th>id</th>\n",
       "      <th>title</th>\n",
       "      <th>release_date</th>\n",
       "      <th>genres</th>\n",
       "      <th>original_language</th>\n",
       "      <th>vote_average</th>\n",
       "      <th>vote_count</th>\n",
       "      <th>popularity</th>\n",
       "      <th>overview</th>\n",
       "      <th>budget</th>\n",
       "      <th>production_companies</th>\n",
       "      <th>revenue</th>\n",
       "      <th>runtime</th>\n",
       "      <th>tagline</th>\n",
       "    </tr>\n",
       "  </thead>\n",
       "  <tbody>\n",
       "    <tr>\n",
       "      <th>0</th>\n",
       "      <td>385687</td>\n",
       "      <td>Fast X</td>\n",
       "      <td>2023-05-17</td>\n",
       "      <td>['Action', 'Crime', 'Thriller']</td>\n",
       "      <td>English</td>\n",
       "      <td>7.4</td>\n",
       "      <td>1347</td>\n",
       "      <td>8363.473</td>\n",
       "      <td>Over many missions and against impossible odds...</td>\n",
       "      <td>340000000</td>\n",
       "      <td>['Universal Pictures', 'Original Film', 'One R...</td>\n",
       "      <td>652000000</td>\n",
       "      <td>142</td>\n",
       "      <td>The end of the road begins.</td>\n",
       "    </tr>\n",
       "    <tr>\n",
       "      <th>1</th>\n",
       "      <td>603692</td>\n",
       "      <td>John Wick: Chapter 4</td>\n",
       "      <td>2023-03-22</td>\n",
       "      <td>['Action', 'Thriller', 'Crime']</td>\n",
       "      <td>English</td>\n",
       "      <td>7.9</td>\n",
       "      <td>2896</td>\n",
       "      <td>4210.313</td>\n",
       "      <td>With the price on his head ever increasing, Jo...</td>\n",
       "      <td>90000000</td>\n",
       "      <td>['Thunder Road', '87Eleven', 'Summit Entertain...</td>\n",
       "      <td>431769198</td>\n",
       "      <td>170</td>\n",
       "      <td>No way back, one way out.</td>\n",
       "    </tr>\n",
       "    <tr>\n",
       "      <th>2</th>\n",
       "      <td>502356</td>\n",
       "      <td>The Super Mario Bros. Movie</td>\n",
       "      <td>2023-04-05</td>\n",
       "      <td>['Animation', 'Family', 'Adventure', 'Fantasy'...</td>\n",
       "      <td>English</td>\n",
       "      <td>7.8</td>\n",
       "      <td>4628</td>\n",
       "      <td>3394.458</td>\n",
       "      <td>While working underground to fix a water main,...</td>\n",
       "      <td>100000000</td>\n",
       "      <td>['Universal Pictures', 'Illumination', 'Ninten...</td>\n",
       "      <td>1308766975</td>\n",
       "      <td>92</td>\n",
       "      <td>NaN</td>\n",
       "    </tr>\n",
       "    <tr>\n",
       "      <th>3</th>\n",
       "      <td>569094</td>\n",
       "      <td>Spider-Man: Across the Spider-Verse</td>\n",
       "      <td>2023-05-31</td>\n",
       "      <td>['Action', 'Adventure', 'Animation', 'Science ...</td>\n",
       "      <td>English</td>\n",
       "      <td>8.8</td>\n",
       "      <td>1160</td>\n",
       "      <td>2859.047</td>\n",
       "      <td>After reuniting with Gwen Stacy, Brooklyn’s fu...</td>\n",
       "      <td>100000000</td>\n",
       "      <td>['Columbia Pictures', 'Sony Pictures Animation...</td>\n",
       "      <td>313522201</td>\n",
       "      <td>140</td>\n",
       "      <td>It's how you wear the mask that matters</td>\n",
       "    </tr>\n",
       "    <tr>\n",
       "      <th>4</th>\n",
       "      <td>536437</td>\n",
       "      <td>Hypnotic</td>\n",
       "      <td>2023-05-11</td>\n",
       "      <td>['Mystery', 'Thriller', 'Science Fiction']</td>\n",
       "      <td>English</td>\n",
       "      <td>6.5</td>\n",
       "      <td>154</td>\n",
       "      <td>2654.854</td>\n",
       "      <td>A detective becomes entangled in a mystery inv...</td>\n",
       "      <td>70000000</td>\n",
       "      <td>['Studio 8', 'Solstice Productions', 'Ingeniou...</td>\n",
       "      <td>0</td>\n",
       "      <td>94</td>\n",
       "      <td>Control is an illusion.</td>\n",
       "    </tr>\n",
       "  </tbody>\n",
       "</table>\n",
       "</div>"
      ],
      "text/plain": [
       "       id                                title release_date  \\\n",
       "0  385687                               Fast X   2023-05-17   \n",
       "1  603692                 John Wick: Chapter 4   2023-03-22   \n",
       "2  502356          The Super Mario Bros. Movie   2023-04-05   \n",
       "3  569094  Spider-Man: Across the Spider-Verse   2023-05-31   \n",
       "4  536437                             Hypnotic   2023-05-11   \n",
       "\n",
       "                                              genres original_language  \\\n",
       "0                    ['Action', 'Crime', 'Thriller']           English   \n",
       "1                    ['Action', 'Thriller', 'Crime']           English   \n",
       "2  ['Animation', 'Family', 'Adventure', 'Fantasy'...           English   \n",
       "3  ['Action', 'Adventure', 'Animation', 'Science ...           English   \n",
       "4         ['Mystery', 'Thriller', 'Science Fiction']           English   \n",
       "\n",
       "   vote_average  vote_count  popularity  \\\n",
       "0           7.4        1347    8363.473   \n",
       "1           7.9        2896    4210.313   \n",
       "2           7.8        4628    3394.458   \n",
       "3           8.8        1160    2859.047   \n",
       "4           6.5         154    2654.854   \n",
       "\n",
       "                                            overview     budget  \\\n",
       "0  Over many missions and against impossible odds...  340000000   \n",
       "1  With the price on his head ever increasing, Jo...   90000000   \n",
       "2  While working underground to fix a water main,...  100000000   \n",
       "3  After reuniting with Gwen Stacy, Brooklyn’s fu...  100000000   \n",
       "4  A detective becomes entangled in a mystery inv...   70000000   \n",
       "\n",
       "                                production_companies     revenue  runtime  \\\n",
       "0  ['Universal Pictures', 'Original Film', 'One R...   652000000      142   \n",
       "1  ['Thunder Road', '87Eleven', 'Summit Entertain...   431769198      170   \n",
       "2  ['Universal Pictures', 'Illumination', 'Ninten...  1308766975       92   \n",
       "3  ['Columbia Pictures', 'Sony Pictures Animation...   313522201      140   \n",
       "4  ['Studio 8', 'Solstice Productions', 'Ingeniou...           0       94   \n",
       "\n",
       "                                   tagline  \n",
       "0              The end of the road begins.  \n",
       "1                No way back, one way out.  \n",
       "2                                      NaN  \n",
       "3  It's how you wear the mask that matters  \n",
       "4                  Control is an illusion.  "
      ]
     },
     "execution_count": 115,
     "metadata": {},
     "output_type": "execute_result"
    }
   ],
   "source": [
    "movies.head()"
   ]
  },
  {
   "cell_type": "code",
   "execution_count": 116,
   "id": "e5fe1d64",
   "metadata": {},
   "outputs": [
    {
     "name": "stdout",
     "output_type": "stream",
     "text": [
      "<class 'pandas.core.frame.DataFrame'>\n",
      "RangeIndex: 10000 entries, 0 to 9999\n",
      "Data columns (total 14 columns):\n",
      " #   Column                Non-Null Count  Dtype  \n",
      "---  ------                --------------  -----  \n",
      " 0   id                    10000 non-null  int64  \n",
      " 1   title                 10000 non-null  object \n",
      " 2   release_date          9977 non-null   object \n",
      " 3   genres                10000 non-null  object \n",
      " 4   original_language     10000 non-null  object \n",
      " 5   vote_average          10000 non-null  float64\n",
      " 6   vote_count            10000 non-null  int64  \n",
      " 7   popularity            10000 non-null  float64\n",
      " 8   overview              9924 non-null   object \n",
      " 9   budget                10000 non-null  int64  \n",
      " 10  production_companies  10000 non-null  object \n",
      " 11  revenue               10000 non-null  int64  \n",
      " 12  runtime               10000 non-null  int64  \n",
      " 13  tagline               7383 non-null   object \n",
      "dtypes: float64(2), int64(5), object(7)\n",
      "memory usage: 1.1+ MB\n"
     ]
    }
   ],
   "source": [
    "movies.info()"
   ]
  },
  {
   "cell_type": "code",
   "execution_count": 117,
   "id": "3d4d17e9",
   "metadata": {},
   "outputs": [
    {
     "data": {
      "text/html": [
       "<div>\n",
       "<style scoped>\n",
       "    .dataframe tbody tr th:only-of-type {\n",
       "        vertical-align: middle;\n",
       "    }\n",
       "\n",
       "    .dataframe tbody tr th {\n",
       "        vertical-align: top;\n",
       "    }\n",
       "\n",
       "    .dataframe thead th {\n",
       "        text-align: right;\n",
       "    }\n",
       "</style>\n",
       "<table border=\"1\" class=\"dataframe\">\n",
       "  <thead>\n",
       "    <tr style=\"text-align: right;\">\n",
       "      <th></th>\n",
       "      <th>id</th>\n",
       "      <th>title</th>\n",
       "      <th>genres</th>\n",
       "      <th>overview</th>\n",
       "    </tr>\n",
       "  </thead>\n",
       "  <tbody>\n",
       "    <tr>\n",
       "      <th>0</th>\n",
       "      <td>385687</td>\n",
       "      <td>Fast X</td>\n",
       "      <td>['Action', 'Crime', 'Thriller']</td>\n",
       "      <td>Over many missions and against impossible odds...</td>\n",
       "    </tr>\n",
       "    <tr>\n",
       "      <th>1</th>\n",
       "      <td>603692</td>\n",
       "      <td>John Wick: Chapter 4</td>\n",
       "      <td>['Action', 'Thriller', 'Crime']</td>\n",
       "      <td>With the price on his head ever increasing, Jo...</td>\n",
       "    </tr>\n",
       "    <tr>\n",
       "      <th>2</th>\n",
       "      <td>502356</td>\n",
       "      <td>The Super Mario Bros. Movie</td>\n",
       "      <td>['Animation', 'Family', 'Adventure', 'Fantasy'...</td>\n",
       "      <td>While working underground to fix a water main,...</td>\n",
       "    </tr>\n",
       "    <tr>\n",
       "      <th>3</th>\n",
       "      <td>569094</td>\n",
       "      <td>Spider-Man: Across the Spider-Verse</td>\n",
       "      <td>['Action', 'Adventure', 'Animation', 'Science ...</td>\n",
       "      <td>After reuniting with Gwen Stacy, Brooklyn’s fu...</td>\n",
       "    </tr>\n",
       "    <tr>\n",
       "      <th>4</th>\n",
       "      <td>536437</td>\n",
       "      <td>Hypnotic</td>\n",
       "      <td>['Mystery', 'Thriller', 'Science Fiction']</td>\n",
       "      <td>A detective becomes entangled in a mystery inv...</td>\n",
       "    </tr>\n",
       "  </tbody>\n",
       "</table>\n",
       "</div>"
      ],
      "text/plain": [
       "       id                                title  \\\n",
       "0  385687                               Fast X   \n",
       "1  603692                 John Wick: Chapter 4   \n",
       "2  502356          The Super Mario Bros. Movie   \n",
       "3  569094  Spider-Man: Across the Spider-Verse   \n",
       "4  536437                             Hypnotic   \n",
       "\n",
       "                                              genres  \\\n",
       "0                    ['Action', 'Crime', 'Thriller']   \n",
       "1                    ['Action', 'Thriller', 'Crime']   \n",
       "2  ['Animation', 'Family', 'Adventure', 'Fantasy'...   \n",
       "3  ['Action', 'Adventure', 'Animation', 'Science ...   \n",
       "4         ['Mystery', 'Thriller', 'Science Fiction']   \n",
       "\n",
       "                                            overview  \n",
       "0  Over many missions and against impossible odds...  \n",
       "1  With the price on his head ever increasing, Jo...  \n",
       "2  While working underground to fix a water main,...  \n",
       "3  After reuniting with Gwen Stacy, Brooklyn’s fu...  \n",
       "4  A detective becomes entangled in a mystery inv...  "
      ]
     },
     "execution_count": 117,
     "metadata": {},
     "output_type": "execute_result"
    }
   ],
   "source": [
    "movies = movies[[\"id\", \"title\", \"genres\", \"overview\"]]\n",
    "movies.head()"
   ]
  },
  {
   "cell_type": "code",
   "execution_count": 118,
   "id": "a7a6eb14",
   "metadata": {},
   "outputs": [
    {
     "data": {
      "text/plain": [
       "id           0\n",
       "title        0\n",
       "genres       0\n",
       "overview    76\n",
       "dtype: int64"
      ]
     },
     "execution_count": 118,
     "metadata": {},
     "output_type": "execute_result"
    }
   ],
   "source": [
    "movies.isna().sum()"
   ]
  },
  {
   "cell_type": "code",
   "execution_count": 119,
   "id": "b9339d8d",
   "metadata": {},
   "outputs": [],
   "source": [
    "movies.dropna(inplace=True)"
   ]
  },
  {
   "cell_type": "code",
   "execution_count": 120,
   "id": "8a1f0d93",
   "metadata": {},
   "outputs": [
    {
     "data": {
      "text/plain": [
       "0"
      ]
     },
     "execution_count": 120,
     "metadata": {},
     "output_type": "execute_result"
    }
   ],
   "source": [
    "movies.duplicated().sum()"
   ]
  },
  {
   "cell_type": "code",
   "execution_count": 121,
   "id": "701f9e41",
   "metadata": {},
   "outputs": [],
   "source": [
    "movies[\"overview\"] = movies[\"overview\"].apply(lambda x:x.split())"
   ]
  },
  {
   "cell_type": "code",
   "execution_count": 122,
   "id": "8611f8b8",
   "metadata": {},
   "outputs": [
    {
     "data": {
      "text/html": [
       "<div>\n",
       "<style scoped>\n",
       "    .dataframe tbody tr th:only-of-type {\n",
       "        vertical-align: middle;\n",
       "    }\n",
       "\n",
       "    .dataframe tbody tr th {\n",
       "        vertical-align: top;\n",
       "    }\n",
       "\n",
       "    .dataframe thead th {\n",
       "        text-align: right;\n",
       "    }\n",
       "</style>\n",
       "<table border=\"1\" class=\"dataframe\">\n",
       "  <thead>\n",
       "    <tr style=\"text-align: right;\">\n",
       "      <th></th>\n",
       "      <th>id</th>\n",
       "      <th>title</th>\n",
       "      <th>genres</th>\n",
       "      <th>overview</th>\n",
       "    </tr>\n",
       "  </thead>\n",
       "  <tbody>\n",
       "    <tr>\n",
       "      <th>0</th>\n",
       "      <td>385687</td>\n",
       "      <td>Fast X</td>\n",
       "      <td>['Action', 'Crime', 'Thriller']</td>\n",
       "      <td>[Over, many, missions, and, against, impossibl...</td>\n",
       "    </tr>\n",
       "    <tr>\n",
       "      <th>1</th>\n",
       "      <td>603692</td>\n",
       "      <td>John Wick: Chapter 4</td>\n",
       "      <td>['Action', 'Thriller', 'Crime']</td>\n",
       "      <td>[With, the, price, on, his, head, ever, increa...</td>\n",
       "    </tr>\n",
       "    <tr>\n",
       "      <th>2</th>\n",
       "      <td>502356</td>\n",
       "      <td>The Super Mario Bros. Movie</td>\n",
       "      <td>['Animation', 'Family', 'Adventure', 'Fantasy'...</td>\n",
       "      <td>[While, working, underground, to, fix, a, wate...</td>\n",
       "    </tr>\n",
       "    <tr>\n",
       "      <th>3</th>\n",
       "      <td>569094</td>\n",
       "      <td>Spider-Man: Across the Spider-Verse</td>\n",
       "      <td>['Action', 'Adventure', 'Animation', 'Science ...</td>\n",
       "      <td>[After, reuniting, with, Gwen, Stacy,, Brookly...</td>\n",
       "    </tr>\n",
       "    <tr>\n",
       "      <th>4</th>\n",
       "      <td>536437</td>\n",
       "      <td>Hypnotic</td>\n",
       "      <td>['Mystery', 'Thriller', 'Science Fiction']</td>\n",
       "      <td>[A, detective, becomes, entangled, in, a, myst...</td>\n",
       "    </tr>\n",
       "  </tbody>\n",
       "</table>\n",
       "</div>"
      ],
      "text/plain": [
       "       id                                title  \\\n",
       "0  385687                               Fast X   \n",
       "1  603692                 John Wick: Chapter 4   \n",
       "2  502356          The Super Mario Bros. Movie   \n",
       "3  569094  Spider-Man: Across the Spider-Verse   \n",
       "4  536437                             Hypnotic   \n",
       "\n",
       "                                              genres  \\\n",
       "0                    ['Action', 'Crime', 'Thriller']   \n",
       "1                    ['Action', 'Thriller', 'Crime']   \n",
       "2  ['Animation', 'Family', 'Adventure', 'Fantasy'...   \n",
       "3  ['Action', 'Adventure', 'Animation', 'Science ...   \n",
       "4         ['Mystery', 'Thriller', 'Science Fiction']   \n",
       "\n",
       "                                            overview  \n",
       "0  [Over, many, missions, and, against, impossibl...  \n",
       "1  [With, the, price, on, his, head, ever, increa...  \n",
       "2  [While, working, underground, to, fix, a, wate...  \n",
       "3  [After, reuniting, with, Gwen, Stacy,, Brookly...  \n",
       "4  [A, detective, becomes, entangled, in, a, myst...  "
      ]
     },
     "execution_count": 122,
     "metadata": {},
     "output_type": "execute_result"
    }
   ],
   "source": [
    "movies.head()"
   ]
  },
  {
   "cell_type": "code",
   "execution_count": 123,
   "id": "8eaf0c5b",
   "metadata": {},
   "outputs": [],
   "source": [
    "movies[\"overview\"] = movies[\"overview\"].apply(lambda x:[i.replace(\" \", \"\") for i in x])"
   ]
  },
  {
   "cell_type": "code",
   "execution_count": 124,
   "id": "1bd9453c",
   "metadata": {},
   "outputs": [
    {
     "data": {
      "text/html": [
       "<div>\n",
       "<style scoped>\n",
       "    .dataframe tbody tr th:only-of-type {\n",
       "        vertical-align: middle;\n",
       "    }\n",
       "\n",
       "    .dataframe tbody tr th {\n",
       "        vertical-align: top;\n",
       "    }\n",
       "\n",
       "    .dataframe thead th {\n",
       "        text-align: right;\n",
       "    }\n",
       "</style>\n",
       "<table border=\"1\" class=\"dataframe\">\n",
       "  <thead>\n",
       "    <tr style=\"text-align: right;\">\n",
       "      <th></th>\n",
       "      <th>id</th>\n",
       "      <th>title</th>\n",
       "      <th>genres</th>\n",
       "      <th>overview</th>\n",
       "    </tr>\n",
       "  </thead>\n",
       "  <tbody>\n",
       "    <tr>\n",
       "      <th>0</th>\n",
       "      <td>385687</td>\n",
       "      <td>Fast X</td>\n",
       "      <td>['Action', 'Crime', 'Thriller']</td>\n",
       "      <td>[Over, many, missions, and, against, impossibl...</td>\n",
       "    </tr>\n",
       "    <tr>\n",
       "      <th>1</th>\n",
       "      <td>603692</td>\n",
       "      <td>John Wick: Chapter 4</td>\n",
       "      <td>['Action', 'Thriller', 'Crime']</td>\n",
       "      <td>[With, the, price, on, his, head, ever, increa...</td>\n",
       "    </tr>\n",
       "    <tr>\n",
       "      <th>2</th>\n",
       "      <td>502356</td>\n",
       "      <td>The Super Mario Bros. Movie</td>\n",
       "      <td>['Animation', 'Family', 'Adventure', 'Fantasy'...</td>\n",
       "      <td>[While, working, underground, to, fix, a, wate...</td>\n",
       "    </tr>\n",
       "    <tr>\n",
       "      <th>3</th>\n",
       "      <td>569094</td>\n",
       "      <td>Spider-Man: Across the Spider-Verse</td>\n",
       "      <td>['Action', 'Adventure', 'Animation', 'Science ...</td>\n",
       "      <td>[After, reuniting, with, Gwen, Stacy,, Brookly...</td>\n",
       "    </tr>\n",
       "    <tr>\n",
       "      <th>4</th>\n",
       "      <td>536437</td>\n",
       "      <td>Hypnotic</td>\n",
       "      <td>['Mystery', 'Thriller', 'Science Fiction']</td>\n",
       "      <td>[A, detective, becomes, entangled, in, a, myst...</td>\n",
       "    </tr>\n",
       "  </tbody>\n",
       "</table>\n",
       "</div>"
      ],
      "text/plain": [
       "       id                                title  \\\n",
       "0  385687                               Fast X   \n",
       "1  603692                 John Wick: Chapter 4   \n",
       "2  502356          The Super Mario Bros. Movie   \n",
       "3  569094  Spider-Man: Across the Spider-Verse   \n",
       "4  536437                             Hypnotic   \n",
       "\n",
       "                                              genres  \\\n",
       "0                    ['Action', 'Crime', 'Thriller']   \n",
       "1                    ['Action', 'Thriller', 'Crime']   \n",
       "2  ['Animation', 'Family', 'Adventure', 'Fantasy'...   \n",
       "3  ['Action', 'Adventure', 'Animation', 'Science ...   \n",
       "4         ['Mystery', 'Thriller', 'Science Fiction']   \n",
       "\n",
       "                                            overview  \n",
       "0  [Over, many, missions, and, against, impossibl...  \n",
       "1  [With, the, price, on, his, head, ever, increa...  \n",
       "2  [While, working, underground, to, fix, a, wate...  \n",
       "3  [After, reuniting, with, Gwen, Stacy,, Brookly...  \n",
       "4  [A, detective, becomes, entangled, in, a, myst...  "
      ]
     },
     "execution_count": 124,
     "metadata": {},
     "output_type": "execute_result"
    }
   ],
   "source": [
    "movies.head()"
   ]
  },
  {
   "cell_type": "code",
   "execution_count": 125,
   "id": "d43955b6",
   "metadata": {},
   "outputs": [],
   "source": [
    "movies[\"genres\"] = [''.join(genre_list) for genre_list in movies[\"genres\"]]"
   ]
  },
  {
   "cell_type": "code",
   "execution_count": 126,
   "id": "fc94a930",
   "metadata": {},
   "outputs": [],
   "source": [
    "movies[\"overview\"] = [' '.join(genre_list) for genre_list in movies[\"overview\"]]"
   ]
  },
  {
   "cell_type": "code",
   "execution_count": 127,
   "id": "46949a41",
   "metadata": {},
   "outputs": [
    {
     "data": {
      "text/html": [
       "<div>\n",
       "<style scoped>\n",
       "    .dataframe tbody tr th:only-of-type {\n",
       "        vertical-align: middle;\n",
       "    }\n",
       "\n",
       "    .dataframe tbody tr th {\n",
       "        vertical-align: top;\n",
       "    }\n",
       "\n",
       "    .dataframe thead th {\n",
       "        text-align: right;\n",
       "    }\n",
       "</style>\n",
       "<table border=\"1\" class=\"dataframe\">\n",
       "  <thead>\n",
       "    <tr style=\"text-align: right;\">\n",
       "      <th></th>\n",
       "      <th>id</th>\n",
       "      <th>title</th>\n",
       "      <th>genres</th>\n",
       "      <th>overview</th>\n",
       "    </tr>\n",
       "  </thead>\n",
       "  <tbody>\n",
       "    <tr>\n",
       "      <th>0</th>\n",
       "      <td>385687</td>\n",
       "      <td>Fast X</td>\n",
       "      <td>['Action', 'Crime', 'Thriller']</td>\n",
       "      <td>Over many missions and against impossible odds...</td>\n",
       "    </tr>\n",
       "    <tr>\n",
       "      <th>1</th>\n",
       "      <td>603692</td>\n",
       "      <td>John Wick: Chapter 4</td>\n",
       "      <td>['Action', 'Thriller', 'Crime']</td>\n",
       "      <td>With the price on his head ever increasing, Jo...</td>\n",
       "    </tr>\n",
       "    <tr>\n",
       "      <th>2</th>\n",
       "      <td>502356</td>\n",
       "      <td>The Super Mario Bros. Movie</td>\n",
       "      <td>['Animation', 'Family', 'Adventure', 'Fantasy'...</td>\n",
       "      <td>While working underground to fix a water main,...</td>\n",
       "    </tr>\n",
       "    <tr>\n",
       "      <th>3</th>\n",
       "      <td>569094</td>\n",
       "      <td>Spider-Man: Across the Spider-Verse</td>\n",
       "      <td>['Action', 'Adventure', 'Animation', 'Science ...</td>\n",
       "      <td>After reuniting with Gwen Stacy, Brooklyn’s fu...</td>\n",
       "    </tr>\n",
       "    <tr>\n",
       "      <th>4</th>\n",
       "      <td>536437</td>\n",
       "      <td>Hypnotic</td>\n",
       "      <td>['Mystery', 'Thriller', 'Science Fiction']</td>\n",
       "      <td>A detective becomes entangled in a mystery inv...</td>\n",
       "    </tr>\n",
       "  </tbody>\n",
       "</table>\n",
       "</div>"
      ],
      "text/plain": [
       "       id                                title  \\\n",
       "0  385687                               Fast X   \n",
       "1  603692                 John Wick: Chapter 4   \n",
       "2  502356          The Super Mario Bros. Movie   \n",
       "3  569094  Spider-Man: Across the Spider-Verse   \n",
       "4  536437                             Hypnotic   \n",
       "\n",
       "                                              genres  \\\n",
       "0                    ['Action', 'Crime', 'Thriller']   \n",
       "1                    ['Action', 'Thriller', 'Crime']   \n",
       "2  ['Animation', 'Family', 'Adventure', 'Fantasy'...   \n",
       "3  ['Action', 'Adventure', 'Animation', 'Science ...   \n",
       "4         ['Mystery', 'Thriller', 'Science Fiction']   \n",
       "\n",
       "                                            overview  \n",
       "0  Over many missions and against impossible odds...  \n",
       "1  With the price on his head ever increasing, Jo...  \n",
       "2  While working underground to fix a water main,...  \n",
       "3  After reuniting with Gwen Stacy, Brooklyn’s fu...  \n",
       "4  A detective becomes entangled in a mystery inv...  "
      ]
     },
     "execution_count": 127,
     "metadata": {},
     "output_type": "execute_result"
    }
   ],
   "source": [
    "movies.head()"
   ]
  },
  {
   "cell_type": "code",
   "execution_count": 128,
   "id": "d3cd0323",
   "metadata": {},
   "outputs": [],
   "source": [
    "movies[\"tags\"] = movies[\"overview\"] + movies[\"genres\"] "
   ]
  },
  {
   "cell_type": "code",
   "execution_count": 129,
   "id": "79d24d56",
   "metadata": {},
   "outputs": [
    {
     "data": {
      "text/plain": [
       "\"Washed-up MMA fighter Cole Young, unaware of his heritage, and hunted by Emperor Shang Tsung's best warrior, Sub-Zero, seeks out and trains with Earth's greatest champions as he prepares to stand against the enemies of Outworld in a high stakes battle for the universe.['Action', 'Fantasy', 'Adventure']\""
      ]
     },
     "execution_count": 129,
     "metadata": {},
     "output_type": "execute_result"
    }
   ],
   "source": [
    "movies[\"tags\"][300]"
   ]
  },
  {
   "cell_type": "code",
   "execution_count": 130,
   "id": "84e0d3d5",
   "metadata": {},
   "outputs": [],
   "source": [
    "new_df = movies[[\"id\", 'title', 'tags']]"
   ]
  },
  {
   "cell_type": "code",
   "execution_count": 131,
   "id": "2a51e056",
   "metadata": {},
   "outputs": [
    {
     "name": "stderr",
     "output_type": "stream",
     "text": [
      "C:\\Users\\Asus\\AppData\\Local\\Temp\\ipykernel_17636\\3481706753.py:1: SettingWithCopyWarning: \n",
      "A value is trying to be set on a copy of a slice from a DataFrame.\n",
      "Try using .loc[row_indexer,col_indexer] = value instead\n",
      "\n",
      "See the caveats in the documentation: https://pandas.pydata.org/pandas-docs/stable/user_guide/indexing.html#returning-a-view-versus-a-copy\n",
      "  new_df[\"tags\"] = new_df[\"tags\"].apply(lambda x:x.lower())\n"
     ]
    }
   ],
   "source": [
    "new_df[\"tags\"] = new_df[\"tags\"].apply(lambda x:x.lower())"
   ]
  },
  {
   "cell_type": "code",
   "execution_count": 132,
   "id": "8a0c7e06",
   "metadata": {},
   "outputs": [
    {
     "data": {
      "text/html": [
       "<div>\n",
       "<style scoped>\n",
       "    .dataframe tbody tr th:only-of-type {\n",
       "        vertical-align: middle;\n",
       "    }\n",
       "\n",
       "    .dataframe tbody tr th {\n",
       "        vertical-align: top;\n",
       "    }\n",
       "\n",
       "    .dataframe thead th {\n",
       "        text-align: right;\n",
       "    }\n",
       "</style>\n",
       "<table border=\"1\" class=\"dataframe\">\n",
       "  <thead>\n",
       "    <tr style=\"text-align: right;\">\n",
       "      <th></th>\n",
       "      <th>id</th>\n",
       "      <th>title</th>\n",
       "      <th>tags</th>\n",
       "    </tr>\n",
       "  </thead>\n",
       "  <tbody>\n",
       "    <tr>\n",
       "      <th>0</th>\n",
       "      <td>385687</td>\n",
       "      <td>Fast X</td>\n",
       "      <td>over many missions and against impossible odds...</td>\n",
       "    </tr>\n",
       "    <tr>\n",
       "      <th>1</th>\n",
       "      <td>603692</td>\n",
       "      <td>John Wick: Chapter 4</td>\n",
       "      <td>with the price on his head ever increasing, jo...</td>\n",
       "    </tr>\n",
       "    <tr>\n",
       "      <th>2</th>\n",
       "      <td>502356</td>\n",
       "      <td>The Super Mario Bros. Movie</td>\n",
       "      <td>while working underground to fix a water main,...</td>\n",
       "    </tr>\n",
       "    <tr>\n",
       "      <th>3</th>\n",
       "      <td>569094</td>\n",
       "      <td>Spider-Man: Across the Spider-Verse</td>\n",
       "      <td>after reuniting with gwen stacy, brooklyn’s fu...</td>\n",
       "    </tr>\n",
       "    <tr>\n",
       "      <th>4</th>\n",
       "      <td>536437</td>\n",
       "      <td>Hypnotic</td>\n",
       "      <td>a detective becomes entangled in a mystery inv...</td>\n",
       "    </tr>\n",
       "  </tbody>\n",
       "</table>\n",
       "</div>"
      ],
      "text/plain": [
       "       id                                title  \\\n",
       "0  385687                               Fast X   \n",
       "1  603692                 John Wick: Chapter 4   \n",
       "2  502356          The Super Mario Bros. Movie   \n",
       "3  569094  Spider-Man: Across the Spider-Verse   \n",
       "4  536437                             Hypnotic   \n",
       "\n",
       "                                                tags  \n",
       "0  over many missions and against impossible odds...  \n",
       "1  with the price on his head ever increasing, jo...  \n",
       "2  while working underground to fix a water main,...  \n",
       "3  after reuniting with gwen stacy, brooklyn’s fu...  \n",
       "4  a detective becomes entangled in a mystery inv...  "
      ]
     },
     "execution_count": 132,
     "metadata": {},
     "output_type": "execute_result"
    }
   ],
   "source": [
    "new_df.head()"
   ]
  },
  {
   "cell_type": "code",
   "execution_count": 133,
   "id": "e37c9f8d",
   "metadata": {},
   "outputs": [
    {
     "name": "stderr",
     "output_type": "stream",
     "text": [
      "C:\\Users\\Asus\\AppData\\Local\\Temp\\ipykernel_17636\\3334962607.py:14: SettingWithCopyWarning: \n",
      "A value is trying to be set on a copy of a slice from a DataFrame.\n",
      "Try using .loc[row_indexer,col_indexer] = value instead\n",
      "\n",
      "See the caveats in the documentation: https://pandas.pydata.org/pandas-docs/stable/user_guide/indexing.html#returning-a-view-versus-a-copy\n",
      "  new_df['tags'] = new_df['tags'].apply(convert_text_to_string)\n"
     ]
    }
   ],
   "source": [
    "import re\n",
    "import pandas as pd\n",
    "\n",
    "def convert_text_to_string(text):\n",
    "    text = re.sub('https?://\\S+|www\\.\\S+', '', text)\n",
    "    text = re.sub('\\n', '', text)\n",
    "    parts = text.split(\"['\")\n",
    "    if len(parts) < 2:\n",
    "        return ''  # Handle the case when the splitting operation doesn't result in enough elements\n",
    "    description = re.sub(r'[^\\w\\s]', '', parts[0].strip())\n",
    "    genres = re.sub(r'[^\\w\\s]', '', parts[1].rstrip(\"']\").replace(\"'\", \"\"))\n",
    "    return f\"{description} {genres}\"\n",
    "\n",
    "new_df['tags'] = new_df['tags'].apply(convert_text_to_string)"
   ]
  },
  {
   "cell_type": "code",
   "execution_count": 134,
   "id": "4ea4c979",
   "metadata": {},
   "outputs": [
    {
     "data": {
      "text/html": [
       "<div>\n",
       "<style scoped>\n",
       "    .dataframe tbody tr th:only-of-type {\n",
       "        vertical-align: middle;\n",
       "    }\n",
       "\n",
       "    .dataframe tbody tr th {\n",
       "        vertical-align: top;\n",
       "    }\n",
       "\n",
       "    .dataframe thead th {\n",
       "        text-align: right;\n",
       "    }\n",
       "</style>\n",
       "<table border=\"1\" class=\"dataframe\">\n",
       "  <thead>\n",
       "    <tr style=\"text-align: right;\">\n",
       "      <th></th>\n",
       "      <th>id</th>\n",
       "      <th>title</th>\n",
       "      <th>tags</th>\n",
       "    </tr>\n",
       "  </thead>\n",
       "  <tbody>\n",
       "    <tr>\n",
       "      <th>0</th>\n",
       "      <td>385687</td>\n",
       "      <td>Fast X</td>\n",
       "      <td>over many missions and against impossible odds...</td>\n",
       "    </tr>\n",
       "    <tr>\n",
       "      <th>1</th>\n",
       "      <td>603692</td>\n",
       "      <td>John Wick: Chapter 4</td>\n",
       "      <td>with the price on his head ever increasing joh...</td>\n",
       "    </tr>\n",
       "    <tr>\n",
       "      <th>2</th>\n",
       "      <td>502356</td>\n",
       "      <td>The Super Mario Bros. Movie</td>\n",
       "      <td>while working underground to fix a water main ...</td>\n",
       "    </tr>\n",
       "    <tr>\n",
       "      <th>3</th>\n",
       "      <td>569094</td>\n",
       "      <td>Spider-Man: Across the Spider-Verse</td>\n",
       "      <td>after reuniting with gwen stacy brooklyns full...</td>\n",
       "    </tr>\n",
       "    <tr>\n",
       "      <th>4</th>\n",
       "      <td>536437</td>\n",
       "      <td>Hypnotic</td>\n",
       "      <td>a detective becomes entangled in a mystery inv...</td>\n",
       "    </tr>\n",
       "  </tbody>\n",
       "</table>\n",
       "</div>"
      ],
      "text/plain": [
       "       id                                title  \\\n",
       "0  385687                               Fast X   \n",
       "1  603692                 John Wick: Chapter 4   \n",
       "2  502356          The Super Mario Bros. Movie   \n",
       "3  569094  Spider-Man: Across the Spider-Verse   \n",
       "4  536437                             Hypnotic   \n",
       "\n",
       "                                                tags  \n",
       "0  over many missions and against impossible odds...  \n",
       "1  with the price on his head ever increasing joh...  \n",
       "2  while working underground to fix a water main ...  \n",
       "3  after reuniting with gwen stacy brooklyns full...  \n",
       "4  a detective becomes entangled in a mystery inv...  "
      ]
     },
     "execution_count": 134,
     "metadata": {},
     "output_type": "execute_result"
    }
   ],
   "source": [
    "new_df.head()"
   ]
  },
  {
   "cell_type": "code",
   "execution_count": 136,
   "id": "2d9ada36",
   "metadata": {},
   "outputs": [
    {
     "name": "stderr",
     "output_type": "stream",
     "text": [
      "C:\\Users\\Asus\\AppData\\Local\\Temp\\ipykernel_17636\\309586950.py:8: SettingWithCopyWarning: \n",
      "A value is trying to be set on a copy of a slice from a DataFrame.\n",
      "Try using .loc[row_indexer,col_indexer] = value instead\n",
      "\n",
      "See the caveats in the documentation: https://pandas.pydata.org/pandas-docs/stable/user_guide/indexing.html#returning-a-view-versus-a-copy\n",
      "  new_df['tags'] = new_df['tags'].fillna('')\n"
     ]
    },
    {
     "data": {
      "text/plain": [
       "(9924, 32154)"
      ]
     },
     "execution_count": 136,
     "metadata": {},
     "output_type": "execute_result"
    }
   ],
   "source": [
    "#Import TfIdfVectorizer from scikit-learn\n",
    "from sklearn.feature_extraction.text import TfidfVectorizer\n",
    "\n",
    "#Define a TF-IDF Vectorizer Object. Remove all english stop words such as 'the', 'a'\n",
    "tfidf = TfidfVectorizer(stop_words='english')\n",
    "\n",
    "#Replace NaN with an empty string\n",
    "new_df['tags'] = new_df['tags'].fillna('')\n",
    "\n",
    "#Construct the required TF-IDF matrix by fitting and transforming the data\n",
    "tfidf_matrix = tfidf.fit_transform(new_df['tags'])\n",
    "\n",
    "#Output the shape of tfidf_matrix\n",
    "tfidf_matrix.shape"
   ]
  },
  {
   "cell_type": "code",
   "execution_count": 137,
   "id": "2a05b1cc",
   "metadata": {},
   "outputs": [],
   "source": [
    "# Import linear_kernel\n",
    "from sklearn.metrics.pairwise import linear_kernel\n",
    "\n",
    "# Compute the cosine similarity matrix\n",
    "cosine_sim = linear_kernel(tfidf_matrix, tfidf_matrix)"
   ]
  },
  {
   "cell_type": "code",
   "execution_count": 139,
   "id": "87e39a9d",
   "metadata": {},
   "outputs": [],
   "source": [
    "#Construct a reverse map of indices and movie titles\n",
    "indices = pd.Series(new_df.index, index=new_df['title']).drop_duplicates()"
   ]
  },
  {
   "cell_type": "code",
   "execution_count": 150,
   "id": "fed08b9b",
   "metadata": {},
   "outputs": [],
   "source": [
    "def get_recommendations(title, cosine_sim=cosine_sim):\n",
    "    # Get the index of the movie that matches the title\n",
    "    idx = indices[title][0]\n",
    "\n",
    "    # Get the pairwise similarity scores of all movies with that movie\n",
    "    sim_scores = list(enumerate(cosine_sim[idx]))\n",
    "\n",
    "    # Sort the movies based on the similarity scores\n",
    "    sim_scores = sorted(sim_scores, key=lambda x: x[1], reverse=True)\n",
    "\n",
    "    # Get the scores of the 10 most similar movies\n",
    "    sim_scores = sim_scores[1:11]\n",
    "\n",
    "    # Get the movie indices\n",
    "    movie_indices = [i[0] for i in sim_scores]\n",
    "\n",
    "    # Return the top 10 most similar movies\n",
    "    return new_df['title'].iloc[movie_indices]"
   ]
  },
  {
   "cell_type": "code",
   "execution_count": 152,
   "id": "e8d8a4d2",
   "metadata": {},
   "outputs": [
    {
     "data": {
      "text/plain": [
       "393                           Avengers: Age of Ultron\n",
       "7589                                    Crime Busters\n",
       "5931                                          Timecop\n",
       "8639                               Echelon Conspiracy\n",
       "5970                  Marvel One-Shot: The Consultant\n",
       "240                         Spider-Man: Far From Home\n",
       "569     Mission: Impossible - Dead Reckoning Part One\n",
       "3459                                             Push\n",
       "5762                                     The Fountain\n",
       "174                                 Meg 2: The Trench\n",
       "Name: title, dtype: object"
      ]
     },
     "execution_count": 152,
     "metadata": {},
     "output_type": "execute_result"
    }
   ],
   "source": [
    "get_recommendations('The Avengers')"
   ]
  },
  {
   "cell_type": "code",
   "execution_count": 153,
   "id": "87d50d37",
   "metadata": {},
   "outputs": [],
   "source": [
    "import pickle\n",
    "pickle.dump(new_df.to_dict(), open('Top-1000-movies-recommender.pkl', 'wb'))"
   ]
  },
  {
   "cell_type": "code",
   "execution_count": 154,
   "id": "1daab93d",
   "metadata": {},
   "outputs": [],
   "source": [
    "pickle.dump(cosine_sim, open('similarity.pkl', 'wb'))"
   ]
  },
  {
   "cell_type": "code",
   "execution_count": null,
   "id": "26609081",
   "metadata": {},
   "outputs": [],
   "source": []
  }
 ],
 "metadata": {
  "kernelspec": {
   "display_name": "Python 3 (ipykernel)",
   "language": "python",
   "name": "python3"
  },
  "language_info": {
   "codemirror_mode": {
    "name": "ipython",
    "version": 3
   },
   "file_extension": ".py",
   "mimetype": "text/x-python",
   "name": "python",
   "nbconvert_exporter": "python",
   "pygments_lexer": "ipython3",
   "version": "3.10.4"
  }
 },
 "nbformat": 4,
 "nbformat_minor": 5
}
